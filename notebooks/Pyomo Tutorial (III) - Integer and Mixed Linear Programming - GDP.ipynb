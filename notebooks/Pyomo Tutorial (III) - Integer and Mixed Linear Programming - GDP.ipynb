{
 "cells": [
  {
   "cell_type": "code",
   "execution_count": 16,
   "metadata": {},
   "outputs": [],
   "source": [
    "from pyomo.environ import *\n",
    "from pyomo.gdp import *\n",
    "\n",
    "model = ConcreteModel()\n",
    "\n",
    "# Parameters\n",
    "model.C_ch = Param(within=NonNegativeReals, default=10)\n",
    "model.C_m = Param(domain=NonNegativeReals, default=15)\n",
    "model.Prod_ch = Param(domain=NonNegativeReals, default=2)\n",
    "model.Prod_m = Param(domain=NonNegativeReals, default=3)\n",
    "model.CAP = Param(domain=NonNegativeIntegers, default=100)\n",
    "model.O_min = Param(domain=NonNegativeIntegers, default=10)\n",
    "model.D_l = Param(domain=NonNegativeReals, default=20)\n",
    "model.D_c = Param(domain=NonNegativeReals, default=30)\n",
    "\n",
    "# GDP parameters\n",
    "model.Cextra = Param(within=NonNegativeReals, default=200)\n",
    "model.limit_cap = Param(within=NonNegativeIntegers, default=20)\n",
    "\n",
    "# Variables\n",
    "model.X = Var(domain=NonNegativeIntegers)\n",
    "model.Y = Var(domain=NonNegativeIntegers)\n",
    "\n",
    "# Constraints\n",
    "model.res1 = Constraint(expr=model.X + model.Y >= model.O_min)\n",
    "model.res2 = Constraint(expr=model.Y >= 2*model.X)\n",
    "model.res3 = Constraint(expr=model.X + model.Y <= model.CAP)\n",
    "model.res4 = Constraint(expr=model.Prod_ch * model.X >= model.D_l)\n",
    "model.res5 = Constraint(expr=model.Prod_m * model.Y >= model.D_c)\n",
    "\n",
    "model.extra_cost_applies = Disjunct()\n",
    "model.extra_cost_applies.rule = Constraint(expr=model.X + model.Y >= model.limit_cap)\n",
    "model.extra_cost_not_applies = Disjunct()\n",
    "model.extra_cost_not_applies.rule = Constraint(expr=model.X + model.Y <= model.limit_cap)\n",
    "model.disj = Disjunction(expr=[model.extra_cost_applies, model.extra_cost_not_applies])\n",
    "\n",
    "# Objective\n",
    "model.obj = Objective(expr=model.C_ch * model.X + model.C_m * model.Y, sense=minimize)"
   ]
  },
  {
   "cell_type": "code",
   "execution_count": 17,
   "metadata": {},
   "outputs": [
    {
     "name": "stdout",
     "output_type": "stream",
     "text": [
      "X value: 10.0\n",
      "Y value: 20.0\n",
      "Is extra cost applied?: True\n",
      "Obj value: 400.0\n"
     ]
    }
   ],
   "source": [
    "xfrm = TransformationFactory('gdp.bigm')\n",
    "xfrm.apply_to(model, bigM=1000)\n",
    "solver = SolverFactory('glpk')\n",
    "status = solver.solve(model)\n",
    "\n",
    "# Results\n",
    "print(\"X value:\", model.X.value)\n",
    "print(\"Y value:\", model.Y.value)\n",
    "print('Is extra cost applied?:', model.extra_cost_applies.indicator_var.value)\n",
    "print(\"Obj value:\", value(model.obj))"
   ]
  }
 ],
 "metadata": {
  "kernelspec": {
   "display_name": "Python 3",
   "language": "python",
   "name": "python3"
  },
  "language_info": {
   "codemirror_mode": {
    "name": "ipython",
    "version": 3
   },
   "file_extension": ".py",
   "mimetype": "text/x-python",
   "name": "python",
   "nbconvert_exporter": "python",
   "pygments_lexer": "ipython3",
   "version": "3.12.3"
  }
 },
 "nbformat": 4,
 "nbformat_minor": 2
}
