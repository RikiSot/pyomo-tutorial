{
 "cells": [
  {
   "cell_type": "code",
   "execution_count": 1,
   "metadata": {},
   "outputs": [
    {
     "name": "stdout",
     "output_type": "stream",
     "text": [
      "Valor de x: 0.0\n",
      "Valor de y: 5.0\n",
      "Valor objetivo: 15.0\n",
      "2 Var Declarations\n",
      "    x : Size=1, Index=None\n",
      "        Key  : Lower : Value : Upper : Fixed : Stale : Domain\n",
      "        None :     0 :   0.0 :  None : False : False : NonNegativeReals\n",
      "    y : Size=1, Index=None\n",
      "        Key  : Lower : Value : Upper : Fixed : Stale : Domain\n",
      "        None :     0 :   5.0 :  None : False : False : NonNegativeReals\n",
      "\n",
      "1 Objective Declarations\n",
      "    objective : Size=1, Index=None, Active=True\n",
      "        Key  : Active : Sense    : Expression\n",
      "        None :   True : maximize : 2*x + 3*y\n",
      "\n",
      "2 Constraint Declarations\n",
      "    restriccion1 : Size=1, Index=None, Active=True\n",
      "        Key  : Lower : Body  : Upper : Active\n",
      "        None :  -Inf : x + y :  10.0 :   True\n",
      "    restriccion2 : Size=1, Index=None, Active=True\n",
      "        Key  : Lower : Body      : Upper : Active\n",
      "        None :  -Inf : 2*x + 3*y :  15.0 :   True\n",
      "\n",
      "5 Declarations: x y restriccion1 restriccion2 objective\n"
     ]
    }
   ],
   "source": [
    "from pyomo.environ import *\n",
    "\n",
    "model = ConcreteModel()\n",
    "\n",
    "# Variables\n",
    "model.x = Var(domain=NonNegativeReals)\n",
    "model.y = Var(domain=NonNegativeReals)\n",
    "\n",
    "# Constraints\n",
    "@model.Constraint()\n",
    "def restriccion1(model):\n",
    "  return model.x + model.y <= 10\n",
    "\n",
    "@model.Constraint()\n",
    "def restriccion2(model):\n",
    "  return 2*model.x + 3*model.y <= 15\n",
    "\n",
    "@model.Objective(sense=maximize)\n",
    "def objective(model):\n",
    "\treturn 2*model.x + 3*model.y\n",
    "\n",
    "# model.obj = Objective(rule=objective, sense=maximize)\n",
    "\n",
    "# Solución\n",
    "solver = SolverFactory(\"glpk\")\n",
    "solver.solve(model)\n",
    "\n",
    "# Resultados\n",
    "print(\"X value:\", model.x.value)\n",
    "print(\"Y value:\", model.y.value)\n",
    "print(\"Objective value:\", value(model.objective))\n",
    "\n",
    "model.pprint()"
   ]
  }
 ],
 "metadata": {
  "kernelspec": {
   "display_name": "Python 3",
   "language": "python",
   "name": "python3"
  },
  "language_info": {
   "codemirror_mode": {
    "name": "ipython",
    "version": 3
   },
   "file_extension": ".py",
   "mimetype": "text/x-python",
   "name": "python",
   "nbconvert_exporter": "python",
   "pygments_lexer": "ipython3",
   "version": "3.12.3"
  }
 },
 "nbformat": 4,
 "nbformat_minor": 2
}
