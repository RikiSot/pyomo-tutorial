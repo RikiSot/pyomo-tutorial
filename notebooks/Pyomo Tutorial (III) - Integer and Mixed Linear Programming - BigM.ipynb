{
 "cells": [
  {
   "cell_type": "code",
   "execution_count": 35,
   "metadata": {},
   "outputs": [],
   "source": [
    "from pyomo.environ import *\n",
    "\n",
    "model = ConcreteModel()\n",
    "\n",
    "# Parameters\n",
    "model.C_ch = Param(within=NonNegativeReals, default=10)\n",
    "model.C_m = Param(domain=NonNegativeReals, default=15)\n",
    "model.Prod_ch = Param(domain=NonNegativeReals, default=2)\n",
    "model.Prod_m = Param(domain=NonNegativeReals, default=3)\n",
    "model.CAP = Param(domain=NonNegativeIntegers, default=100)\n",
    "model.O_min = Param(domain=NonNegativeIntegers, default=10)\n",
    "model.D_l = Param(domain=NonNegativeReals, default=20)\n",
    "model.D_c = Param(domain=NonNegativeReals, default=30)\n",
    "\n",
    "# GDP parameters\n",
    "model.Cextra = Param(within=NonNegativeReals, default=200)\n",
    "model.limit_cap = Param(within=NonNegativeIntegers, default=20)\n",
    "\n",
    "# Variables\n",
    "model.X = Var(domain=NonNegativeIntegers)\n",
    "model.Y = Var(domain=NonNegativeIntegers)\n",
    "\n",
    "# Constraints\n",
    "model.res1 = Constraint(expr=model.X + model.Y >= model.O_min)\n",
    "model.res2 = Constraint(expr=model.Y >= 2*model.X)\n",
    "model.res3 = Constraint(expr=model.X + model.Y <= model.CAP)\n",
    "model.res4 = Constraint(expr=model.Prod_ch * model.X >= model.D_l)\n",
    "model.res5 = Constraint(expr=model.Prod_m * model.Y >= model.D_c)\n",
    "\n",
    "# Conditional cost\n",
    "M = 1000\n",
    "model.Z = Var(domain=Binary)\n",
    "model.extra_cost1 = Constraint(expr=model.X + model.Y >= model.limit_cap - M * (1 - model.Z))\n",
    "# You can try disabling this constraint: since Z is in the objective function this condition is not necessary\n",
    "model.extra_cost2 = Constraint(expr=model.X + model.Y - model.Z * M <= model.limit_cap)\n",
    "\n",
    "# Objective\n",
    "model.obj = Objective(expr=model.C_ch * model.X + model.C_m * model.Y, sense=minimize)"
   ]
  },
  {
   "cell_type": "code",
   "execution_count": 36,
   "metadata": {},
   "outputs": [
    {
     "name": "stdout",
     "output_type": "stream",
     "text": [
      "X value: 10.0\n",
      "Y value: 20.0\n",
      "Is extra cost applied?: False\n",
      "Obj value: 400.0\n"
     ]
    }
   ],
   "source": [
    "solver = SolverFactory('glpk')\n",
    "status = solver.solve(model)\n",
    "\n",
    "# Results\n",
    "print(\"X value:\", model.X.value)\n",
    "print(\"Y value:\", model.Y.value)\n",
    "print('Is extra cost applied?:', bool(model.Z.value))\n",
    "print(\"Obj value:\", value(model.obj))"
   ]
  }
 ],
 "metadata": {
  "kernelspec": {
   "display_name": "Python 3",
   "language": "python",
   "name": "python3"
  },
  "language_info": {
   "codemirror_mode": {
    "name": "ipython",
    "version": 3
   },
   "file_extension": ".py",
   "mimetype": "text/x-python",
   "name": "python",
   "nbconvert_exporter": "python",
   "pygments_lexer": "ipython3",
   "version": "3.12.3"
  }
 },
 "nbformat": 4,
 "nbformat_minor": 2
}
